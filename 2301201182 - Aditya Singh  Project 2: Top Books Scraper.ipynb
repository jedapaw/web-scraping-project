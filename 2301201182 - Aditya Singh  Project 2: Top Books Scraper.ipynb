{
  "nbformat": 4,
  "nbformat_minor": 0,
  "metadata": {
    "colab": {
      "provenance": []
    },
    "kernelspec": {
      "name": "python3",
      "display_name": "Python 3"
    },
    "language_info": {
      "name": "python"
    }
  },
  "cells": [
    {
      "cell_type": "code",
      "execution_count": 1,
      "metadata": {
        "colab": {
          "base_uri": "https://localhost:8080/"
        },
        "id": "MH9WZ-qANDno",
        "outputId": "2f879b69-b5d3-4a06-d0e5-a4a6d4e0216a"
      },
      "outputs": [
        {
          "output_type": "stream",
          "name": "stdout",
          "text": [
            "Successfully scraped 20 books and saved data to 'books_data.csv'.\n",
            "\n",
            "--- Analysis ---\n",
            "Average Price of Books: £38.05\n",
            "Highest Rating: 5 stars\n",
            "Best-Rated Book(s):\n",
            "- Sapiens: A Brief History of Humankind\n",
            "- Set Me Free\n",
            "- Scott Pilgrim's Precious Little Life (Scott Pilgrim #1)\n",
            "- Rip it Up and Start Again\n"
          ]
        }
      ],
      "source": [
        "import requests\n",
        "from bs4 import BeautifulSoup\n",
        "import csv\n",
        "import re\n",
        "\n",
        "def scrape_books():\n",
        "    try:\n",
        "        url = \"http://books.toscrape.com/\"\n",
        "        response = requests.get(url)\n",
        "        response.raise_for_status()\n",
        "\n",
        "        soup = BeautifulSoup(response.content, \"html.parser\")\n",
        "\n",
        "        all_books = []\n",
        "\n",
        "        books = soup.find_all(\"article\", class_=\"product_pod\")\n",
        "\n",
        "        rating_map = {\"One\": 1, \"Two\": 2, \"Three\": 3, \"Four\": 4, \"Five\": 5}\n",
        "\n",
        "        for book in books:\n",
        "            title = book.h3.a[\"title\"]\n",
        "\n",
        "            price_str = book.find(\"p\", class_=\"price_color\").text\n",
        "            price = float(re.search(r\"[\\d.]+\", price_str).group())\n",
        "\n",
        "            rating_p = book.find(\"p\", class_=re.compile(\"star-rating\"))\n",
        "            rating_text = rating_p[\"class\"][1] # e.g., \"Three\"\n",
        "            rating_num = rating_map.get(rating_text, 0) # Convert to number\n",
        "\n",
        "            all_books.append({\"title\": title, \"price\": price, \"rating\": rating_num})\n",
        "\n",
        "        csv_file = \"books_data.csv\"\n",
        "        with open(csv_file, \"w\", newline=\"\", encoding=\"utf-8\") as file:\n",
        "            writer = csv.DictWriter(file, fieldnames=[\"title\", \"price\", \"rating\"])\n",
        "            writer.writeheader()\n",
        "            writer.writerows(all_books)\n",
        "\n",
        "        print(f\"Successfully scraped {len(all_books)} books and saved data to '{csv_file}'.\")\n",
        "\n",
        "        if all_books:\n",
        "            # Calculate average price\n",
        "            total_price = sum(book[\"price\"] for book in all_books)\n",
        "            average_price = total_price / len(all_books)\n",
        "\n",
        "            # Find the best-rated book(s)\n",
        "            max_rating = max(book[\"rating\"] for book in all_books)\n",
        "            best_rated_books = [book[\"title\"] for book in all_books if book[\"rating\"] == max_rating]\n",
        "\n",
        "            print(\"\\n--- Analysis ---\")\n",
        "            print(f\"Average Price of Books: £{average_price:.2f}\")\n",
        "            print(f\"Highest Rating: {max_rating} stars\")\n",
        "            print(\"Best-Rated Book(s):\")\n",
        "            for title in best_rated_books:\n",
        "                print(f\"- {title}\")\n",
        "\n",
        "    except requests.exceptions.RequestException as e:\n",
        "        print(f\"Error fetching data: {e}\")\n",
        "    except Exception as e:\n",
        "        print(f\"An error occurred: {e}\")\n",
        "\n",
        "\n",
        "if __name__ == \"__main__\":\n",
        "    scrape_books()"
      ]
    }
  ]
}